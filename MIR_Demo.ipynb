{
 "cells": [
  {
   "cell_type": "code",
   "execution_count": 203,
   "metadata": {},
   "outputs": [],
   "source": [
    "import numpy as np\n",
    "from sklearn.cluster import KMeans\n",
    "import matplotlib.pyplot as plt\n",
    "from sklearn.linear_model import LinearRegression\n",
    "from sklearn import preprocessing\n"
   ]
  },
  {
   "cell_type": "code",
   "execution_count": 204,
   "metadata": {},
   "outputs": [],
   "source": [
    "def generate_Data():\n",
    "    mu=np.array([1,1])\n",
    "    sigma=0.5\n",
    "    s1 =sigma* np.random.randn(100, 2)+mu\n",
    "    plt.plot(s1[:,1],s1[:,0],'.')\n",
    "    mu=np.array([1,3])\n",
    "    sigma=0.5\n",
    "    s2 =sigma* np.random.randn(100, 2)+mu\n",
    "    plt.plot(s2[:,1],s2[:,0],'.')\n",
    "    mu=np.array([1,5])\n",
    "    sigma=0.5\n",
    "    s3 =sigma* np.random.randn(100, 2)+mu\n",
    "    plt.plot(s3[:,1],s3[:,0],'.')\n",
    "    plt.show()\n",
    "    X=np.vstack((s1,s2))\n",
    "    X=np.vstack((X,s3))\n",
    "    return X"
   ]
  },
  {
   "cell_type": "code",
   "execution_count": null,
   "metadata": {},
   "outputs": [],
   "source": []
  },
  {
   "cell_type": "code",
   "execution_count": 205,
   "metadata": {},
   "outputs": [
    {
     "data": {
      "image/png": "[encoded data removed]",
      "text/plain": [
       "<Figure size 432x288 with 1 Axes>"
      ]
     },
     "metadata": {
      "needs_background": "light"
     },
     "output_type": "display_data"
    },
    {
     "data": {
      "image/png": "[encoded data removed]",
      "text/plain": [
       "<Figure size 432x288 with 1 Axes>"
      ]
     },
     "metadata": {
      "needs_background": "light"
     },
     "output_type": "display_data"
    }
   ],
   "source": [
    "bags=[]\n",
    "X=generate_Data()\n",
    "km=KMeans(n_clusters=3)\n",
    "km.fit(X)\n",
    "plt.plot(X[:,1],X[:,0],'.')\n",
    "plt.show()\n",
    "random_Labels=np.random.randn(20)\n",
    "y=np.array([])\n",
    "for i in range(15):\n",
    "    y=np.append(y,random_Labels)\n",
    "X_with_bag_labels=np.hstack((X,np.array([y]).T))\n",
    "X_with_bag_labels_and_kmL=np.hstack((X_with_bag_labels,np.array([km.labels_]).T))\n",
    "X_with_kmL=np.hstack((X,np.array([km.labels_]).T))"
   ]
  },
  {
   "cell_type": "code",
   "execution_count": 206,
   "metadata": {},
   "outputs": [],
   "source": [
    "for i in random_Labels:\n",
    "    bags.append(X_with_kmL[X_with_bag_labels[:,2]==i])"
   ]
  },
  {
   "cell_type": "code",
   "execution_count": 207,
   "metadata": {},
   "outputs": [
    {
     "data": {
      "text/plain": [
       "[array([[1.01756063, 0.28300167, 2.        ],\n",
       "        [0.28847372, 1.07262516, 2.        ],\n",
       "        [0.48918454, 0.40096191, 2.        ],\n",
       "        [1.4621263 , 1.06045769, 2.        ],\n",
       "        [1.64856204, 0.40540292, 2.        ],\n",
       "        [0.93515421, 2.64765445, 0.        ],\n",
       "        [1.28771578, 2.86175205, 0.        ],\n",
       "        [0.63188781, 2.86015863, 0.        ],\n",
       "        [1.40583286, 4.39667662, 1.        ],\n",
       "        [1.64758621, 1.6164859 , 2.        ],\n",
       "        [1.434167  , 4.7140092 , 1.        ],\n",
       "        [1.08812796, 5.13312501, 1.        ],\n",
       "        [0.96656661, 5.03319923, 1.        ],\n",
       "        [2.02120146, 4.59779512, 1.        ],\n",
       "        [1.01654953, 5.23630944, 1.        ]]),\n",
       " array([[0.90516451, 0.31578321, 2.        ],\n",
       "        [1.15831503, 0.70566079, 2.        ],\n",
       "        [1.09791028, 1.01868147, 2.        ],\n",
       "        [1.18903276, 0.75961398, 2.        ],\n",
       "        [1.14715568, 0.91710268, 2.        ],\n",
       "        [0.30481451, 3.04572657, 0.        ],\n",
       "        [0.90188359, 3.13302321, 0.        ],\n",
       "        [1.81671331, 2.77365006, 0.        ],\n",
       "        [0.62339086, 3.30346524, 0.        ],\n",
       "        [0.95526809, 2.28854912, 0.        ],\n",
       "        [2.00285137, 4.55823649, 1.        ],\n",
       "        [0.69230491, 5.54906748, 1.        ],\n",
       "        [0.90417371, 5.00383305, 1.        ],\n",
       "        [1.16304254, 5.02091179, 1.        ],\n",
       "        [1.08264349, 4.61239057, 1.        ]]),\n",
       " array([[1.0933125 , 0.66757109, 2.        ],\n",
       "        [0.64630465, 1.12015095, 2.        ],\n",
       "        [1.48760543, 1.35621804, 2.        ],\n",
       "        [1.85542462, 1.22480444, 2.        ],\n",
       "        [0.57262068, 1.32357298, 2.        ],\n",
       "        [1.37835453, 3.05093093, 0.        ],\n",
       "        [0.69345959, 2.5438065 , 0.        ],\n",
       "        [0.34270594, 3.62054567, 0.        ],\n",
       "        [0.82565495, 3.17530496, 0.        ],\n",
       "        [1.03560228, 4.15651854, 1.        ],\n",
       "        [0.8171019 , 4.99234496, 1.        ],\n",
       "        [1.06057305, 4.07634982, 1.        ],\n",
       "        [0.16007406, 5.36848541, 1.        ],\n",
       "        [0.67030186, 4.45222811, 1.        ],\n",
       "        [1.18850759, 5.38005124, 1.        ]]),\n",
       " array([[0.80289837, 0.81914584, 2.        ],\n",
       "        [0.43223978, 1.18817371, 2.        ],\n",
       "        [1.63790572, 1.06553204, 2.        ],\n",
       "        [0.78183782, 1.54685144, 2.        ],\n",
       "        [0.15051836, 2.08677259, 0.        ],\n",
       "        [1.12143639, 2.52005912, 0.        ],\n",
       "        [1.46712688, 2.50019126, 0.        ],\n",
       "        [0.40848661, 2.54149363, 0.        ],\n",
       "        [1.54401557, 3.32754548, 0.        ],\n",
       "        [2.00374615, 2.94275565, 0.        ],\n",
       "        [0.26753564, 5.4635191 , 1.        ],\n",
       "        [1.65895462, 4.45798204, 1.        ],\n",
       "        [1.28571885, 5.05372414, 1.        ],\n",
       "        [1.19922743, 4.64646913, 1.        ],\n",
       "        [0.15257889, 4.25199566, 1.        ]]),\n",
       " array([[ 0.26573293,  1.51302565,  2.        ],\n",
       "        [ 0.84794927,  1.41805483,  2.        ],\n",
       "        [ 0.20841255,  0.94765827,  2.        ],\n",
       "        [ 1.05309601,  1.42626215,  2.        ],\n",
       "        [ 1.14275501,  0.47591507,  2.        ],\n",
       "        [ 1.39241685,  2.72718151,  0.        ],\n",
       "        [ 2.16930888,  2.40748596,  0.        ],\n",
       "        [ 1.52682584,  2.65618671,  0.        ],\n",
       "        [ 0.18532237,  2.26182478,  0.        ],\n",
       "        [ 2.10999194,  2.56393108,  0.        ],\n",
       "        [ 1.06470703,  5.09320649,  1.        ],\n",
       "        [-0.42441108,  5.64965863,  1.        ],\n",
       "        [ 1.04937878,  5.37382873,  1.        ],\n",
       "        [ 1.06863874,  5.57545584,  1.        ],\n",
       "        [ 0.61661767,  4.76854575,  1.        ]]),\n",
       " array([[0.6245068 , 1.76729942, 2.        ],\n",
       "        [0.75033781, 1.42623792, 2.        ],\n",
       "        [1.04308282, 0.72918927, 2.        ],\n",
       "        [1.55487369, 0.24381594, 2.        ],\n",
       "        [0.74125448, 1.14883602, 2.        ],\n",
       "        [1.00932813, 2.68574839, 0.        ],\n",
       "        [1.4327614 , 2.76998003, 0.        ],\n",
       "        [1.4869691 , 2.11921237, 0.        ],\n",
       "        [1.07740017, 3.30839357, 0.        ],\n",
       "        [0.93688984, 3.62371389, 0.        ],\n",
       "        [1.4043204 , 4.61276992, 1.        ],\n",
       "        [1.3645097 , 5.54292076, 1.        ],\n",
       "        [1.15384126, 5.93739584, 1.        ],\n",
       "        [0.83654288, 5.61108086, 1.        ],\n",
       "        [0.9899706 , 4.83790181, 1.        ]]),\n",
       " array([[ 1.03452795,  1.15428192,  2.        ],\n",
       "        [ 1.88029911,  0.70105886,  2.        ],\n",
       "        [ 1.25177237,  0.09505996,  2.        ],\n",
       "        [ 1.53314965,  0.36569418,  2.        ],\n",
       "        [-0.32719939,  1.19629772,  2.        ],\n",
       "        [ 0.58047385,  2.33151098,  0.        ],\n",
       "        [ 1.03206557,  2.78629933,  0.        ],\n",
       "        [ 0.89274299,  3.86568424,  0.        ],\n",
       "        [ 0.32831947,  3.61625969,  0.        ],\n",
       "        [ 1.40646739,  2.35602148,  0.        ],\n",
       "        [ 1.48081767,  4.87486514,  1.        ],\n",
       "        [ 1.79709871,  4.78758841,  1.        ],\n",
       "        [ 0.33044023,  4.616412  ,  1.        ],\n",
       "        [ 0.84966051,  5.61523533,  1.        ],\n",
       "        [ 0.94758154,  5.23025098,  1.        ]]),\n",
       " array([[ 2.19198866,  0.6541309 ,  2.        ],\n",
       "        [ 0.92868765,  1.10279177,  2.        ],\n",
       "        [ 0.4870567 ,  1.5726438 ,  2.        ],\n",
       "        [ 0.93611678,  1.45575221,  2.        ],\n",
       "        [ 1.35906775,  0.70311785,  2.        ],\n",
       "        [ 0.52192656,  4.13018227,  1.        ],\n",
       "        [ 1.34913176,  2.7544874 ,  0.        ],\n",
       "        [ 0.79284313,  3.04705779,  0.        ],\n",
       "        [ 1.29198918,  3.46248463,  0.        ],\n",
       "        [ 0.86164001,  3.56676887,  0.        ],\n",
       "        [ 0.54683504,  5.80920341,  1.        ],\n",
       "        [ 0.65548449,  5.32184404,  1.        ],\n",
       "        [-0.05248107,  5.10879238,  1.        ],\n",
       "        [ 1.25520797,  4.91813279,  1.        ],\n",
       "        [ 1.43941509,  5.05612317,  1.        ]]),\n",
       " array([[0.52211035, 0.77993933, 2.        ],\n",
       "        [0.67994647, 0.88257764, 2.        ],\n",
       "        [1.37621871, 0.29483928, 2.        ],\n",
       "        [0.71225494, 1.63389824, 2.        ],\n",
       "        [1.57768741, 0.88482392, 2.        ],\n",
       "        [1.18751826, 2.86792729, 0.        ],\n",
       "        [0.67941978, 3.03720898, 0.        ],\n",
       "        [0.64359225, 3.31902614, 0.        ],\n",
       "        [1.2004604 , 3.11966988, 0.        ],\n",
       "        [0.94719195, 2.42664971, 0.        ],\n",
       "        [1.10690989, 4.27031244, 1.        ],\n",
       "        [1.19160123, 5.13279804, 1.        ],\n",
       "        [0.43607116, 5.45515847, 1.        ],\n",
       "        [1.84802033, 4.80719324, 1.        ],\n",
       "        [0.94686745, 5.81664831, 1.        ]]),\n",
       " array([[ 0.87008576,  0.31265811,  2.        ],\n",
       "        [ 0.93509297,  0.22134612,  2.        ],\n",
       "        [ 1.63067891,  0.71215216,  2.        ],\n",
       "        [-0.2017797 ,  1.21842149,  2.        ],\n",
       "        [ 1.49215123,  1.34331743,  2.        ],\n",
       "        [ 1.75094311,  2.60922204,  0.        ],\n",
       "        [ 0.87270554,  2.46209161,  0.        ],\n",
       "        [ 0.53904109,  3.01945717,  0.        ],\n",
       "        [ 1.28740183,  2.75222213,  0.        ],\n",
       "        [ 1.0953537 ,  2.07129611,  0.        ],\n",
       "        [ 1.03660238,  4.93751043,  1.        ],\n",
       "        [ 1.71217323,  5.1073006 ,  1.        ],\n",
       "        [ 1.03434522,  5.33501215,  1.        ],\n",
       "        [ 0.3374142 ,  4.93591741,  1.        ],\n",
       "        [ 0.71694833,  5.27178122,  1.        ]]),\n",
       " array([[1.19361889, 0.08762723, 2.        ],\n",
       "        [1.49771825, 0.77312833, 2.        ],\n",
       "        [0.49398279, 1.31118685, 2.        ],\n",
       "        [1.18257235, 1.18723184, 2.        ],\n",
       "        [1.12837642, 0.47654386, 2.        ],\n",
       "        [0.45623542, 3.3062639 , 0.        ],\n",
       "        [0.86715072, 2.54374879, 0.        ],\n",
       "        [1.20832866, 2.91868045, 0.        ],\n",
       "        [1.42751015, 3.28839651, 0.        ],\n",
       "        [1.04375026, 3.00802672, 0.        ],\n",
       "        [1.05523963, 4.56961506, 1.        ],\n",
       "        [0.87362889, 5.20556582, 1.        ],\n",
       "        [0.68429533, 3.96629235, 1.        ],\n",
       "        [1.55876934, 5.43068056, 1.        ],\n",
       "        [1.03444157, 5.55659835, 1.        ]]),\n",
       " array([[1.05349292, 1.46961627, 2.        ],\n",
       "        [0.04310553, 1.36502786, 2.        ],\n",
       "        [1.42824066, 1.01863125, 2.        ],\n",
       "        [1.07462656, 1.02942499, 2.        ],\n",
       "        [0.10687793, 1.10512758, 2.        ],\n",
       "        [1.95537596, 3.14907024, 0.        ],\n",
       "        [1.72529719, 2.83844937, 0.        ],\n",
       "        [0.82966747, 3.84968616, 0.        ],\n",
       "        [0.87936253, 2.33194584, 0.        ],\n",
       "        [0.16092668, 3.23698619, 0.        ],\n",
       "        [0.82358859, 4.42438698, 1.        ],\n",
       "        [1.53427799, 4.81033336, 1.        ],\n",
       "        [1.30280202, 5.46741302, 1.        ],\n",
       "        [0.8105569 , 4.35856782, 1.        ],\n",
       "        [1.51444214, 4.57023555, 1.        ]]),\n",
       " array([[1.48854196, 0.95666456, 2.        ],\n",
       "        [0.51514536, 0.19783356, 2.        ],\n",
       "        [1.48922756, 1.56070144, 2.        ],\n",
       "        [1.44235464, 1.22799227, 2.        ],\n",
       "        [0.88722781, 1.27255667, 2.        ],\n",
       "        [1.66649089, 2.19947423, 0.        ],\n",
       "        [2.14795466, 2.92024179, 0.        ],\n",
       "        [0.47189144, 2.89840637, 0.        ],\n",
       "        [1.13770372, 3.23440092, 0.        ],\n",
       "        [1.01270048, 2.62716953, 0.        ],\n",
       "        [0.69393865, 5.92975841, 1.        ],\n",
       "        [0.58745088, 3.87956471, 0.        ],\n",
       "        [1.34218874, 4.61160101, 1.        ],\n",
       "        [1.61211802, 4.90578044, 1.        ],\n",
       "        [1.48611066, 5.41225496, 1.        ]]),\n",
       " array([[1.10933417, 1.08486403, 2.        ],\n",
       "        [0.14358234, 0.46975021, 2.        ],\n",
       "        [0.90519067, 0.96859663, 2.        ],\n",
       "        [0.87683936, 0.86712599, 2.        ],\n",
       "        [0.18688918, 1.23188081, 2.        ],\n",
       "        [1.48027278, 2.47806815, 0.        ],\n",
       "        [1.08760617, 2.79935997, 0.        ],\n",
       "        [1.96699105, 2.43388956, 0.        ],\n",
       "        [0.96131223, 3.13273181, 0.        ],\n",
       "        [1.75810845, 2.69168469, 0.        ],\n",
       "        [1.32266116, 5.83757681, 1.        ],\n",
       "        [0.77104885, 4.43459601, 1.        ],\n",
       "        [0.70415055, 5.63671171, 1.        ],\n",
       "        [1.21091277, 5.41476933, 1.        ],\n",
       "        [1.37913985, 4.99025761, 1.        ]]),\n",
       " array([[ 1.2761859 ,  0.49983104,  2.        ],\n",
       "        [ 0.50092507,  1.09762377,  2.        ],\n",
       "        [ 1.47793336,  0.64176807,  2.        ],\n",
       "        [ 1.27435043, -0.13264535,  2.        ],\n",
       "        [ 1.24352372,  0.9546941 ,  2.        ],\n",
       "        [ 0.7603027 ,  2.94131955,  0.        ],\n",
       "        [ 1.31673184,  2.9113945 ,  0.        ],\n",
       "        [ 1.04561418,  2.55093479,  0.        ],\n",
       "        [ 1.24885483,  2.4387433 ,  0.        ],\n",
       "        [ 1.07307726,  3.49874088,  0.        ],\n",
       "        [ 0.4810454 ,  5.01230466,  1.        ],\n",
       "        [ 1.75033846,  5.16809464,  1.        ],\n",
       "        [ 0.3534404 ,  4.80808037,  1.        ],\n",
       "        [ 1.1441797 ,  4.99014915,  1.        ],\n",
       "        [ 0.32224365,  5.055692  ,  1.        ]]),\n",
       " array([[1.12137785, 1.72796269, 2.        ],\n",
       "        [1.27694342, 0.41753645, 2.        ],\n",
       "        [0.94686736, 1.26702357, 2.        ],\n",
       "        [0.57211195, 0.98268932, 2.        ],\n",
       "        [0.96859283, 0.25365085, 2.        ],\n",
       "        [1.28713224, 2.67488585, 0.        ],\n",
       "        [1.25372037, 3.11454615, 0.        ],\n",
       "        [1.19746426, 2.61895317, 0.        ],\n",
       "        [1.52880138, 3.44719794, 0.        ],\n",
       "        [0.89111167, 2.95512048, 0.        ],\n",
       "        [0.61187148, 4.69914818, 1.        ],\n",
       "        [1.04436002, 5.02064678, 1.        ],\n",
       "        [1.08996205, 4.87072681, 1.        ],\n",
       "        [1.06153117, 5.36372628, 1.        ],\n",
       "        [0.59927351, 5.77325999, 1.        ]]),\n",
       " array([[1.09268845, 1.49434851, 2.        ],\n",
       "        [1.152678  , 0.85252823, 2.        ],\n",
       "        [0.47497916, 0.18992418, 2.        ],\n",
       "        [1.08464638, 1.26023545, 2.        ],\n",
       "        [1.77652713, 1.14093857, 2.        ],\n",
       "        [0.55295632, 3.59007596, 0.        ],\n",
       "        [1.28099157, 3.19776849, 0.        ],\n",
       "        [1.566569  , 2.94124838, 0.        ],\n",
       "        [1.72067172, 2.66098279, 0.        ],\n",
       "        [1.1008939 , 2.62083823, 0.        ],\n",
       "        [2.07514675, 4.89732292, 1.        ],\n",
       "        [0.68484476, 5.11855091, 1.        ],\n",
       "        [0.73681333, 5.48786479, 1.        ],\n",
       "        [1.54423445, 4.05084159, 1.        ],\n",
       "        [0.75101798, 5.49655609, 1.        ]]),\n",
       " array([[ 2.06749507,  0.79240663,  2.        ],\n",
       "        [ 1.54251103,  1.28178389,  2.        ],\n",
       "        [ 0.77098756,  0.83916303,  2.        ],\n",
       "        [ 1.17696587,  1.35763137,  2.        ],\n",
       "        [ 1.21928353,  1.3442165 ,  2.        ],\n",
       "        [ 0.36073933,  1.63288611,  2.        ],\n",
       "        [ 2.26365556,  3.5680911 ,  0.        ],\n",
       "        [ 1.11894955,  1.86714602,  2.        ],\n",
       "        [ 1.18638406,  2.54364892,  0.        ],\n",
       "        [-0.28768371,  2.88385293,  0.        ],\n",
       "        [ 0.86524107,  5.38694655,  1.        ],\n",
       "        [ 1.49931715,  4.36589017,  1.        ],\n",
       "        [ 0.80703564,  5.79818172,  1.        ],\n",
       "        [ 0.28489821,  5.51005971,  1.        ],\n",
       "        [ 1.65309068,  5.45096128,  1.        ]]),\n",
       " array([[1.02853233, 1.23428713, 2.        ],\n",
       "        [0.42574576, 1.46939328, 2.        ],\n",
       "        [0.99570239, 0.65458428, 2.        ],\n",
       "        [2.21395247, 1.80046667, 2.        ],\n",
       "        [1.49203772, 1.61309646, 2.        ],\n",
       "        [1.67479753, 3.15517857, 0.        ],\n",
       "        [0.85956991, 3.01071914, 0.        ],\n",
       "        [0.41628616, 2.28696613, 0.        ],\n",
       "        [1.67342073, 3.3356386 , 0.        ],\n",
       "        [0.43578792, 1.82612596, 2.        ],\n",
       "        [1.33853532, 4.98383598, 1.        ],\n",
       "        [1.19398517, 5.7429558 , 1.        ],\n",
       "        [1.15821859, 4.89513345, 1.        ],\n",
       "        [0.42229613, 4.34768723, 1.        ],\n",
       "        [1.15210245, 5.02831479, 1.        ]]),\n",
       " array([[ 0.52934674,  1.5081084 ,  2.        ],\n",
       "        [ 0.77280289,  1.05220729,  2.        ],\n",
       "        [ 0.27295141,  0.52237494,  2.        ],\n",
       "        [ 0.96784272,  0.55466527,  2.        ],\n",
       "        [ 1.12088544, -0.11490001,  2.        ],\n",
       "        [ 1.29150937,  2.99136023,  0.        ],\n",
       "        [ 0.76919408,  2.89371251,  0.        ],\n",
       "        [ 1.88797633,  3.52675867,  0.        ],\n",
       "        [ 1.22310093,  3.0488252 ,  0.        ],\n",
       "        [ 1.6563585 ,  2.71500732,  0.        ],\n",
       "        [ 1.12648801,  5.12199754,  1.        ],\n",
       "        [ 0.28269937,  5.54169243,  1.        ],\n",
       "        [ 1.03933826,  5.22470354,  1.        ],\n",
       "        [ 0.80379911,  4.52194805,  1.        ],\n",
       "        [ 0.81527116,  4.70642047,  1.        ]])]"
      ]
     },
     "execution_count": 207,
     "metadata": {},
     "output_type": "execute_result"
    }
   ],
   "source": [
    "bags"
   ]
  },
  {
   "cell_type": "code",
   "execution_count": 208,
   "metadata": {},
   "outputs": [
    {
     "data": {
      "text/plain": [
       "array([[0.95158593, 2.78985504, 0.        ],\n",
       "       [1.32207424, 4.85185244, 1.        ],\n",
       "       [1.09224891, 0.80648921, 2.        ],\n",
       "       [0.92041407, 2.90888284, 0.        ],\n",
       "       [1.1690032 , 4.94888788, 1.        ],\n",
       "       [1.09951565, 0.74336843, 2.        ],\n",
       "       [0.81004375, 3.09764701, 0.        ],\n",
       "       [0.82202679, 4.73766302, 1.        ],\n",
       "       [1.13105357, 1.1384635 , 2.        ],\n",
       "       [1.11588833, 2.65313629, 0.        ],\n",
       "       [0.91280308, 4.77473802, 1.        ],\n",
       "       [0.91372042, 1.15492575, 2.        ],\n",
       "       [1.47677318, 2.52332201, 0.        ],\n",
       "       [0.67498623, 5.29213909, 1.        ],\n",
       "       [0.70358915, 1.1561832 , 2.        ],\n",
       "       [1.18866973, 2.90140965, 0.        ],\n",
       "       [1.14983697, 5.30841384, 1.        ],\n",
       "       [0.94281112, 1.06307571, 2.        ],\n",
       "       [0.84801385, 2.99115514, 0.        ],\n",
       "       [1.08111973, 5.02487037, 1.        ],\n",
       "       [1.07450994, 0.70247853, 2.        ],\n",
       "       [1.07390102, 3.20769967, 0.        ],\n",
       "       [0.72773135, 5.05737968, 1.        ],\n",
       "       [1.18058351, 1.09768731, 2.        ],\n",
       "       [0.93163653, 2.9540964 , 0.        ],\n",
       "       [1.10589401, 5.0964221 , 1.        ],\n",
       "       [0.97364357, 0.89521568, 2.        ],\n",
       "       [1.10908905, 2.58285781, 0.        ],\n",
       "       [0.96749667, 5.11750436, 1.        ],\n",
       "       [0.94524583, 0.76157906, 2.        ],\n",
       "       [1.00059504, 3.01302327, 0.        ],\n",
       "       [1.04127495, 4.94575043, 1.        ],\n",
       "       [1.09925374, 0.76714362, 2.        ],\n",
       "       [1.11012597, 3.08122756, 0.        ],\n",
       "       [1.19713353, 4.72618735, 1.        ],\n",
       "       [0.74126872, 1.19756559, 2.        ],\n",
       "       [1.17069868, 2.95987626, 0.        ],\n",
       "       [1.28358902, 5.21484871, 1.        ],\n",
       "       [1.16449947, 1.0431497 , 2.        ],\n",
       "       [1.45085814, 2.70714683, 0.        ],\n",
       "       [1.07758264, 5.26278229, 1.        ],\n",
       "       [0.64436714, 0.92444353, 2.        ],\n",
       "       [1.08891616, 2.8682266 , 0.        ],\n",
       "       [0.81024952, 5.00686417, 1.        ],\n",
       "       [1.1545837 , 0.61225433, 2.        ],\n",
       "       [1.23164598, 2.96214072, 0.        ],\n",
       "       [0.88139964, 5.14550161, 1.        ],\n",
       "       [0.97717868, 0.92977258, 2.        ],\n",
       "       [1.2444165 , 3.00218277, 0.        ],\n",
       "       [1.15841145, 5.01022726, 1.        ],\n",
       "       [1.11630382, 0.98759499, 2.        ],\n",
       "       [1.05411864, 2.99853098, 0.        ],\n",
       "       [1.02191655, 5.30240789, 1.        ],\n",
       "       [1.1795617 , 1.30217622, 2.        ],\n",
       "       [1.15601858, 2.94712561, 0.        ],\n",
       "       [1.05302753, 4.99958545, 1.        ],\n",
       "       [1.09862643, 1.4329923 , 2.        ],\n",
       "       [1.36562784, 3.03513279, 0.        ],\n",
       "       [0.81351918, 5.02335241, 1.        ],\n",
       "       [0.73276584, 0.70449118, 2.        ]])"
      ]
     },
     "execution_count": 208,
     "metadata": {},
     "output_type": "execute_result"
    }
   ],
   "source": [
    "k=3\n",
    "exemplers=[]\n",
    "for bag in bags:\n",
    "    for j in range(k):\n",
    "        exemplers.append(np.mean(bag[bag[:,2]==j],axis=0))\n",
    "exemplers=np.array(exemplers)\n",
    "exemplers"
   ]
  },
  {
   "cell_type": "code",
   "execution_count": 209,
   "metadata": {},
   "outputs": [
    {
     "data": {
      "text/plain": [
       "array([[[0.95158593, 2.78985504, 0.        ],\n",
       "        [0.92041407, 2.90888284, 0.        ],\n",
       "        [0.81004375, 3.09764701, 0.        ],\n",
       "        [1.11588833, 2.65313629, 0.        ],\n",
       "        [1.47677318, 2.52332201, 0.        ],\n",
       "        [1.18866973, 2.90140965, 0.        ],\n",
       "        [0.84801385, 2.99115514, 0.        ],\n",
       "        [1.07390102, 3.20769967, 0.        ],\n",
       "        [0.93163653, 2.9540964 , 0.        ],\n",
       "        [1.10908905, 2.58285781, 0.        ],\n",
       "        [1.00059504, 3.01302327, 0.        ],\n",
       "        [1.11012597, 3.08122756, 0.        ],\n",
       "        [1.17069868, 2.95987626, 0.        ],\n",
       "        [1.45085814, 2.70714683, 0.        ],\n",
       "        [1.08891616, 2.8682266 , 0.        ],\n",
       "        [1.23164598, 2.96214072, 0.        ],\n",
       "        [1.2444165 , 3.00218277, 0.        ],\n",
       "        [1.05411864, 2.99853098, 0.        ],\n",
       "        [1.15601858, 2.94712561, 0.        ],\n",
       "        [1.36562784, 3.03513279, 0.        ]],\n",
       "\n",
       "       [[1.32207424, 4.85185244, 1.        ],\n",
       "        [1.1690032 , 4.94888788, 1.        ],\n",
       "        [0.82202679, 4.73766302, 1.        ],\n",
       "        [0.91280308, 4.77473802, 1.        ],\n",
       "        [0.67498623, 5.29213909, 1.        ],\n",
       "        [1.14983697, 5.30841384, 1.        ],\n",
       "        [1.08111973, 5.02487037, 1.        ],\n",
       "        [0.72773135, 5.05737968, 1.        ],\n",
       "        [1.10589401, 5.0964221 , 1.        ],\n",
       "        [0.96749667, 5.11750436, 1.        ],\n",
       "        [1.04127495, 4.94575043, 1.        ],\n",
       "        [1.19713353, 4.72618735, 1.        ],\n",
       "        [1.28358902, 5.21484871, 1.        ],\n",
       "        [1.07758264, 5.26278229, 1.        ],\n",
       "        [0.81024952, 5.00686417, 1.        ],\n",
       "        [0.88139964, 5.14550161, 1.        ],\n",
       "        [1.15841145, 5.01022726, 1.        ],\n",
       "        [1.02191655, 5.30240789, 1.        ],\n",
       "        [1.05302753, 4.99958545, 1.        ],\n",
       "        [0.81351918, 5.02335241, 1.        ]],\n",
       "\n",
       "       [[1.09224891, 0.80648921, 2.        ],\n",
       "        [1.09951565, 0.74336843, 2.        ],\n",
       "        [1.13105357, 1.1384635 , 2.        ],\n",
       "        [0.91372042, 1.15492575, 2.        ],\n",
       "        [0.70358915, 1.1561832 , 2.        ],\n",
       "        [0.94281112, 1.06307571, 2.        ],\n",
       "        [1.07450994, 0.70247853, 2.        ],\n",
       "        [1.18058351, 1.09768731, 2.        ],\n",
       "        [0.97364357, 0.89521568, 2.        ],\n",
       "        [0.94524583, 0.76157906, 2.        ],\n",
       "        [1.09925374, 0.76714362, 2.        ],\n",
       "        [0.74126872, 1.19756559, 2.        ],\n",
       "        [1.16449947, 1.0431497 , 2.        ],\n",
       "        [0.64436714, 0.92444353, 2.        ],\n",
       "        [1.1545837 , 0.61225433, 2.        ],\n",
       "        [0.97717868, 0.92977258, 2.        ],\n",
       "        [1.11630382, 0.98759499, 2.        ],\n",
       "        [1.1795617 , 1.30217622, 2.        ],\n",
       "        [1.09862643, 1.4329923 , 2.        ],\n",
       "        [0.73276584, 0.70449118, 2.        ]]])"
      ]
     },
     "execution_count": 209,
     "metadata": {},
     "output_type": "execute_result"
    }
   ],
   "source": [
    "Xe=[]\n",
    "Xe.append(exemplers[exemplers[:,2]==0])\n",
    "Xe.append(exemplers[exemplers[:,2]==1])\n",
    "Xe.append(exemplers[exemplers[:,2]==2])\n",
    "Xe=np.array(Xe)\n",
    "Xe"
   ]
  },
  {
   "cell_type": "code",
   "execution_count": 210,
   "metadata": {},
   "outputs": [],
   "source": [
    "# y=random_Labels\n",
    "random_Labels_n=random_Labels/np.linalg.norm(random_Labels)\n",
    "model1=LinearRegression().fit(Xe[0][:,:-1],random_Labels_n)\n",
    "model2=LinearRegression().fit(Xe[1][:,:-1],random_Labels_n)\n",
    "model3=LinearRegression().fit(Xe[2][:,:-1],random_Labels_n)"
   ]
  },
  {
   "cell_type": "code",
   "execution_count": 211,
   "metadata": {},
   "outputs": [
    {
     "data": {
      "text/plain": [
       "<matplotlib.legend.Legend at 0x7f7e3dc22750>"
      ]
     },
     "execution_count": 211,
     "metadata": {},
     "output_type": "execute_result"
    },
    {
     "data": {
      "image/png": "[encoded data removed]",
      "text/plain": [
       "<Figure size 432x288 with 1 Axes>"
      ]
     },
     "metadata": {
      "needs_background": "light"
     },
     "output_type": "display_data"
    }
   ],
   "source": [
    "plt.plot(X_with_kmL[:,1],X_with_kmL[:,0],'.')\n",
    "plt.plot(exemplers[0::3,:-1][:,1],exemplers[::3,:-1][:,0],'x')\n",
    "plt.plot(exemplers[1::3,:-1][:,1],exemplers[::3,:-1][:,0],'x')\n",
    "plt.plot(exemplers[2::3,:-1][:,1],exemplers[::3,:-1][:,0],'x')\n",
    "\n",
    "j=np.linspace(min(exemplers[0::3,:-1][:,1]),max(exemplers[0::3,:-1][:,1]))\n",
    "plt.plot(j,model1.coef_[0]*j +model1.coef_[1]*j+model1.intercept_,label='1')\n",
    "\n",
    "j=np.linspace(min(exemplers[1::3,:-1][:,1]),max(exemplers[1::3,:-1][:,1]))\n",
    "plt.plot(j,model2.coef_[0]*j+model2.coef_[1]*j+model2.intercept_,label='2')\n",
    "\n",
    "j=np.linspace(min(exemplers[2::3,:-1][:,1]),max(exemplers[2::3,:-1][:,1]))\n",
    "plt.plot(j,model3.coef_[0]*j+model3.coef_[1]*j+model3.intercept_,label='3')\n",
    "plt.legend()"
   ]
  },
  {
   "cell_type": "code",
   "execution_count": 87,
   "metadata": {},
   "outputs": [
    {
     "data": {
      "text/plain": [
       "array([2.87912347, 2.96376815, 3.03804822, 3.00057539, 2.9489651 ,\n",
       "       2.96811687, 2.98137974, 3.06156921, 2.98390615, 3.00675768,\n",
       "       3.06384467, 2.97676371, 3.06981556, 3.02795244, 3.0007686 ,\n",
       "       2.88158868, 3.05197884, 3.12900507, 3.10546808, 3.0149947 ])"
      ]
     },
     "execution_count": 87,
     "metadata": {},
     "output_type": "execute_result"
    }
   ],
   "source": [
    "exemplers[2::3,:-1][:,1]"
   ]
  },
  {
   "cell_type": "code",
   "execution_count": 23,
   "metadata": {},
   "outputs": [
    {
     "data": {
      "text/plain": [
       "[<matplotlib.lines.Line2D at 0x7f7e5a394a50>]"
      ]
     },
     "execution_count": 23,
     "metadata": {},
     "output_type": "execute_result"
    },
    {
     "data": {
      "image/png": "[encoded data removed]",
      "text/plain": [
       "<Figure size 432x288 with 1 Axes>"
      ]
     },
     "metadata": {
      "needs_background": "light"
     },
     "output_type": "display_data"
    }
   ],
   "source": [
    "plt.plot(y)"
   ]
  },
  {
   "cell_type": "code",
   "execution_count": 180,
   "metadata": {},
   "outputs": [],
   "source": [
    "from sklearn.preprocessing import PolynomialFeatures\n",
    "transformer1 = PolynomialFeatures(degree=3, include_bias=False)\n",
    "transformer1.fit(Xe[0][:,:-1])\n",
    "transformer2 = PolynomialFeatures(degree=3, include_bias=False)\n",
    "transformer2.fit(Xe[1][:,:-1])\n",
    "transformer3 = PolynomialFeatures(degree=3, include_bias=False)\n",
    "transformer3.fit(Xe[2][:,:-1])\n",
    "x_1 = transformer1.transform(Xe[0][:,:-1])\n",
    "x_2 = transformer2.transform(Xe[1][:,:-1])\n",
    "x_3 = transformer3.transform(Xe[2][:,:-1])\n",
    "model4=LinearRegression().fit(x_1,random_Labels_n)\n",
    "model5=LinearRegression().fit(x_2,random_Labels_n)\n",
    "model6=LinearRegression().fit(x_3,random_Labels_n)"
   ]
  },
  {
   "cell_type": "code",
   "execution_count": 181,
   "metadata": {},
   "outputs": [],
   "source": [
    "y_pred1 = model4.predict(x_1)\n",
    "y_pred2 = model5.predict(x_2)\n",
    "y_pred3 = model6.predict(x_3)"
   ]
  },
  {
   "cell_type": "code",
   "execution_count": 182,
   "metadata": {},
   "outputs": [
    {
     "data": {
      "text/plain": [
       "[<matplotlib.lines.Line2D at 0x7f7e3cddb1d0>]"
      ]
     },
     "execution_count": 182,
     "metadata": {},
     "output_type": "execute_result"
    },
    {
     "data": {
      "image/png": "[encoded data removed]",
      "text/plain": [
       "<Figure size 432x288 with 1 Axes>"
      ]
     },
     "metadata": {
      "needs_background": "light"
     },
     "output_type": "display_data"
    }
   ],
   "source": [
    "plt.plot(y_pred3)\n",
    "plt.plot(random_Labels)"
   ]
  },
  {
   "cell_type": "code",
   "execution_count": null,
   "metadata": {},
   "outputs": [],
   "source": []
  },
  {
   "cell_type": "code",
   "execution_count": null,
   "metadata": {},
   "outputs": [],
   "source": []
  }
 ],
 "metadata": {
  "kernelspec": {
   "display_name": "Python 3.7.13 ('ants_env')",
   "language": "python",
   "name": "python3"
  },
  "language_info": {
   "codemirror_mode": {
    "name": "ipython",
    "version": 3
   },
   "file_extension": ".py",
   "mimetype": "text/x-python",
   "name": "python",
   "nbconvert_exporter": "python",
   "pygments_lexer": "ipython3",
   "version": "3.7.13"
  },
  "orig_nbformat": 4,
  "vscode": {
   "interpreter": {
    "hash": "71f9986c70c020ee1453ea71383106fa8db52a8f86e9701790a04eea15b63a6b"
   }
  }
 },
 "nbformat": 4,
 "nbformat_minor": 2
}
